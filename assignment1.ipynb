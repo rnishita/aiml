{
 "cells": [
  {
   "cell_type": "code",
   "execution_count": 2,
   "metadata": {},
   "outputs": [
    {
     "name": "stdout",
     "output_type": "stream",
     "text": [
      "5\n",
      "* \n",
      "* * \n",
      "* * * \n",
      "* * * * \n",
      "* * * * * \n"
     ]
    }
   ],
   "source": [
    "##pattern\n",
    "n=int(input(''))\n",
    "for i in range(0, n):\n",
    "    for j in range(0, i + 1):\n",
    "        print(\"*\", end=' ')\n",
    "\n",
    "    print(\"\\r\")"
   ]
  },
  {
   "cell_type": "code",
   "execution_count": 41,
   "metadata": {},
   "outputs": [
    {
     "name": "stdout",
     "output_type": "stream",
     "text": [
      "12\n",
      "12 x 1 = 12\n",
      "12 x 2 = 24\n",
      "12 x 3 = 36\n",
      "12 x 4 = 48\n",
      "12 x 5 = 60\n",
      "12 x 6 = 72\n",
      "12 x 7 = 84\n",
      "12 x 8 = 96\n",
      "12 x 9 = 108\n",
      "12 x 10 = 120\n"
     ]
    }
   ],
   "source": [
    "## multiplication table\n",
    "n=int(input(''))\n",
    "for i in range(1,11):\n",
    "    print(n,'x',i,'=',n*i)\n"
   ]
  },
  {
   "cell_type": "code",
   "execution_count": 19,
   "metadata": {},
   "outputs": [
    {
     "name": "stdout",
     "output_type": "stream",
     "text": [
      "7\n",
      "0 1 1 2 3 5 8 "
     ]
    }
   ],
   "source": [
    "##fibonicci series\n",
    "n=int(input(''))\n",
    "f1=0\n",
    "f2=1\n",
    "c=0\n",
    "while c<n:\n",
    "    print(f1,end=\" \")\n",
    "    t=f1+f2\n",
    "    f1=f2\n",
    "    f2=t\n",
    "    c=c+1"
   ]
  },
  {
   "cell_type": "code",
   "execution_count": 40,
   "metadata": {},
   "outputs": [
    {
     "name": "stdout",
     "output_type": "stream",
     "text": [
      "1\n",
      "5\n",
      "6\n",
      "roots are real\n",
      "root1= -2.0\n",
      "root2= -3.0\n"
     ]
    }
   ],
   "source": [
    "## quadratic equation\n",
    "import math\n",
    "a=int(input(''))\n",
    "b=int(input(''))\n",
    "c=int(input(''))\n",
    "d=b*b-4*a*c\n",
    "if(d>=0):\n",
    "    x1=(-b+math.sqrt(d))/2*a\n",
    "    x2=(-b-math.sqrt(d))/2*a\n",
    "else:\n",
    "    x1= complex((-b/(2*a)),math.sqrt(-d)/(2*a))\n",
    "    x2= complex((-b/(2*a)),-math.sqrt(-d)/(2*a))\n",
    "if(d>0):\n",
    "    print(\"roots are real\")\n",
    "    print(\"root1=\",x1)\n",
    "    print(\"root2=\",x2)\n",
    "elif(d==0):\n",
    "    x1=x2=-b/(2*a)\n",
    "    print(\"root=\",x1)\n",
    "else:\n",
    "    print(\"complex roots\") \n",
    "    print(\"root1=\",x1)\n",
    "    print(\"root2=\",x2)\n",
    "\n",
    "\n",
    "    \n"
   ]
  },
  {
   "cell_type": "code",
   "execution_count": 39,
   "metadata": {},
   "outputs": [
    {
     "name": "stdout",
     "output_type": "stream",
     "text": [
      "15\n",
      "1111"
     ]
    }
   ],
   "source": [
    "## decimal to binary\n",
    "n=int(input(''))\n",
    "a=[]\n",
    "while(n>0):\n",
    "    d=n%2\n",
    "    a.append(d)\n",
    "    n=n//2\n",
    "a.reverse()\n",
    "for i in a:\n",
    "    print(i,end=\"\")"
   ]
  },
  {
   "cell_type": "code",
   "execution_count": null,
   "metadata": {},
   "outputs": [],
   "source": []
  },
  {
   "cell_type": "code",
   "execution_count": null,
   "metadata": {},
   "outputs": [],
   "source": []
  },
  {
   "cell_type": "code",
   "execution_count": null,
   "metadata": {},
   "outputs": [],
   "source": []
  }
 ],
 "metadata": {
  "kernelspec": {
   "display_name": "Python 3",
   "language": "python",
   "name": "python3"
  },
  "language_info": {
   "codemirror_mode": {
    "name": "ipython",
    "version": 3
   },
   "file_extension": ".py",
   "mimetype": "text/x-python",
   "name": "python",
   "nbconvert_exporter": "python",
   "pygments_lexer": "ipython3",
   "version": "3.7.4"
  }
 },
 "nbformat": 4,
 "nbformat_minor": 2
}
