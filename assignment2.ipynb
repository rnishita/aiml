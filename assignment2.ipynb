{
 "cells": [
  {
   "cell_type": "code",
   "execution_count": 7,
   "metadata": {},
   "outputs": [
    {
     "name": "stdout",
     "output_type": "stream",
     "text": [
      "FizzBuzz\n",
      "1\n",
      "2\n",
      "Fizz\n",
      "4\n",
      "Buzz\n",
      "Fizz\n",
      "7\n",
      "8\n",
      "Fizz\n",
      "Buzz\n",
      "11\n",
      "Fizz\n",
      "13\n",
      "14\n",
      "FizzBuzz\n",
      "16\n",
      "17\n",
      "Fizz\n",
      "19\n",
      "Buzz\n",
      "Fizz\n",
      "22\n",
      "23\n",
      "Fizz\n",
      "Buzz\n",
      "26\n",
      "Fizz\n",
      "28\n",
      "29\n",
      "FizzBuzz\n",
      "31\n",
      "32\n",
      "Fizz\n",
      "34\n",
      "Buzz\n",
      "Fizz\n",
      "37\n",
      "38\n",
      "Fizz\n",
      "Buzz\n",
      "41\n",
      "Fizz\n",
      "43\n",
      "44\n",
      "FizzBuzz\n",
      "46\n",
      "47\n",
      "Fizz\n",
      "49\n",
      "Buzz\n"
     ]
    }
   ],
   "source": [
    "#Write a Python program which iterates the integers from 1 to 50. For multiples of three print \"Fizz\" instead of the number and for the multiples of five print \"Buzz\". For numbers which are multiples of both three and five print \"FizzBuzz\".\n",
    "for FizzBuzz in range(51):\n",
    "    if FizzBuzz % 3 == 0 and FizzBuzz % 5 == 0:\n",
    "        print(\"FizzBuzz\")\n",
    "        continue\n",
    "    elif FizzBuzz % 3 == 0:\n",
    "        print(\"Fizz\")\n",
    "        continue\n",
    "    elif FizzBuzz % 5 == 0:\n",
    "        print(\"Buzz\")\n",
    "        continue\n",
    "    print(FizzBuzz)"
   ]
  },
  {
   "cell_type": "code",
   "execution_count": 3,
   "metadata": {},
   "outputs": [
    {
     "name": "stdout",
     "output_type": "stream",
     "text": [
      " 26\n",
      " 15\n",
      " 29\n",
      "the median is = 26\n"
     ]
    }
   ],
   "source": [
    "#Write a Python program to find the median of three values.\n",
    "\n",
    "a = int(input(\" \"))\n",
    "b = int(input(\" \"))\n",
    "c = int(input(\" \"))\n",
    "if a > b:\n",
    "    if a < c:\n",
    "        median = a\n",
    "    elif b > c:\n",
    "        median = b\n",
    "    else:\n",
    "        median = c\n",
    "else:\n",
    "    if a > c:\n",
    "        median = a\n",
    "    elif b < c:\n",
    "        median = b\n",
    "    else:\n",
    "        median = c\n",
    "print(\"the median is =\",median)"
   ]
  },
  {
   "cell_type": "code",
   "execution_count": 9,
   "metadata": {},
   "outputs": [
    {
     "name": "stdout",
     "output_type": "stream",
     "text": [
      "Enter Score:0.85\n",
      "B\n"
     ]
    }
   ],
   "source": [
    "##Write a program to prompt for a score between 0.0 and 1.0. If the score is out of range, print an error\n",
    "\n",
    "n=float(input('Enter Score:'))\n",
    "if n<0.0 or n>1.0:\n",
    "    print('error')\n",
    "elif n>=0.9:\n",
    "    print('A')\n",
    "elif n>=0.8:\n",
    "    print('B')\n",
    "elif n>=0.7:\n",
    "    print('C')\n",
    "elif n>=0.6:\n",
    "    print('D')\n",
    "elif n<0.6:\n",
    "    print('F')\n",
    "\n"
   ]
  },
  {
   "cell_type": "code",
   "execution_count": 10,
   "metadata": {},
   "outputs": [
    {
     "name": "stdout",
     "output_type": "stream",
     "text": [
      "enter a number127\n",
      "848\n"
     ]
    }
   ],
   "source": [
    "##Accept a number as an input and check whether the given number is palindrome or not\n",
    "##if it is a palindrome number print the number on the screen\n",
    "##if it is not a palindrome number reverse that number and add it to previous number repeat this until will get a palindrome number and print that palindrome number on the screen\n",
    "\n",
    "n=int(input(\"enter a number\"))\n",
    "r=0\n",
    "rev=0\n",
    "s=0\n",
    "if(str(n)==str(n)[::-1]):\n",
    "    print(\"palindrome\")\n",
    "else:\n",
    "    rev=int(str(n)[::-1])\n",
    "    s = n+rev\n",
    "    print(s)"
   ]
  },
  {
   "cell_type": "code",
   "execution_count": 4,
   "metadata": {},
   "outputs": [
    {
     "name": "stdout",
     "output_type": "stream",
     "text": [
      "Appli123cation456 \n",
      "21\n"
     ]
    }
   ],
   "source": [
    "#Accept input as a string and display sum of digits as the output \n",
    "\n",
    "s=input(\"\")\n",
    "sum=0\n",
    "for i in range(0,len(s)):\n",
    "    if(s[i]>='0' and s[i]<='9'):\n",
    "        sum += int(s[i])\n",
    "    else:\n",
    "        continue\n",
    "print(sum)"
   ]
  },
  {
   "cell_type": "code",
   "execution_count": 2,
   "metadata": {},
   "outputs": [
    {
     "name": "stdout",
     "output_type": "stream",
     "text": [
      "enter a string:abcdge12@ n\n",
      "number of vowels: 2\n",
      "number of consonants: 5\n",
      "number of whitespaces: 1\n",
      "number of special characters: 1\n",
      "number of digits: 2\n"
     ]
    }
   ],
   "source": [
    "#Accept a string from the user and count no.of vowels,consonants and special characters\n",
    "\n",
    "str=input(\"enter a string:\")\n",
    "str=str.lower()\n",
    "vowel=0\n",
    "cons=0\n",
    "space=0\n",
    "digit=0\n",
    "spl=0\n",
    "for i in range(0,len(str)):\n",
    "    if(str[i]=='a' or str[i]=='e' or str[i]=='i' or str[i]=='o' or str[i]=='u'):\n",
    "        vowel += 1\n",
    "    elif(str[i]>'a' and str[i]<'z'):\n",
    "        cons += 1\n",
    "    elif(str[i]==' '):\n",
    "        space += 1\n",
    "    elif(str[i]>='0' and str[i]<='9'):\n",
    "        digit += 1\n",
    "    else:\n",
    "        spl += 1\n",
    "print(\"number of vowels:\",vowel)\n",
    "print(\"number of consonants:\",cons)\n",
    "print(\"number of whitespaces:\",space)\n",
    "print(\"number of special characters:\",spl)\n",
    "print(\"number of digits:\",digit)"
   ]
  },
  {
   "cell_type": "code",
   "execution_count": 3,
   "metadata": {},
   "outputs": [
    {
     "name": "stdout",
     "output_type": "stream",
     "text": [
      "enter a string :((((()()()))))()\n",
      "8\n"
     ]
    }
   ],
   "source": [
    "##question 3\n",
    "s1=input(\"enter a string :\")\n",
    "count=0\n",
    "i=0\n",
    "while i<(len(s1)-1):\n",
    "    if(s1[i]=='('):\n",
    "        count+=1\n",
    "    i+=1\n",
    "print(count)"
   ]
  },
  {
   "cell_type": "code",
   "execution_count": 1,
   "metadata": {},
   "outputs": [
    {
     "name": "stdout",
     "output_type": "stream",
     "text": [
      "enter stringabbaaccbbaaa\n",
      "  2\n"
     ]
    }
   ],
   "source": [
    "## count the pairs of a\n",
    "s=input(\"enter string\")\n",
    "s=s.lower()\n",
    "count=0\n",
    "i=0\n",
    "while i<(len(s)-1):\n",
    "    if(s[i]=='a'):\n",
    "        if(s[i+1]=='a'):\n",
    "            count += 1\n",
    "            i+=1\n",
    "    i+=1\n",
    "print(\" \",count)"
   ]
  },
  {
   "cell_type": "code",
   "execution_count": 2,
   "metadata": {},
   "outputs": [
    {
     "name": "stdout",
     "output_type": "stream",
     "text": [
      "1\n",
      "100\n",
      "18\n"
     ]
    }
   ],
   "source": [
    "#no of palindromes in a range\n",
    "a=int(input())\n",
    "b=int(input())\n",
    "c=0\n",
    "for i in range(1,b+1):\n",
    "    s=str(i)\n",
    "    if s==s[::-1]:\n",
    "        c=c+1\n",
    "print(c)"
   ]
  },
  {
   "cell_type": "code",
   "execution_count": 3,
   "metadata": {},
   "outputs": [
    {
     "name": "stdout",
     "output_type": "stream",
     "text": [
      "puboif\n"
     ]
    }
   ],
   "source": [
    "##input:orange  →   output : puboif\n",
    "v = 'orange'\n",
    "v1=(chr(ord(v[0])+1))\n",
    "v2=(chr(ord(v[1])+3))\n",
    "v3=(chr(ord(v[2])+1))\n",
    "v4=(chr(ord(v[3])+1))\n",
    "v5=(chr(ord(v[4])+2))\n",
    "v6=(chr(ord(v[5])+1))\n",
    "v=v1+v2+v3+v4+v5+v6\n",
    "print(v)"
   ]
  },
  {
   "cell_type": "code",
   "execution_count": null,
   "metadata": {},
   "outputs": [],
   "source": []
  }
 ],
 "metadata": {
  "kernelspec": {
   "display_name": "Python 3",
   "language": "python",
   "name": "python3"
  },
  "language_info": {
   "codemirror_mode": {
    "name": "ipython",
    "version": 3
   },
   "file_extension": ".py",
   "mimetype": "text/x-python",
   "name": "python",
   "nbconvert_exporter": "python",
   "pygments_lexer": "ipython3",
   "version": "3.7.4"
  }
 },
 "nbformat": 4,
 "nbformat_minor": 2
}
